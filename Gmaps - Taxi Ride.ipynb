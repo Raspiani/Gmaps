{
 "cells": [
  {
   "cell_type": "markdown",
   "metadata": {},
   "source": [
    "## Gmaps - Taxi Ride\n",
    "\n",
    "    Berikut ini langkah-langkah yang dapat dilakukan dengan modul gmaps di python"
   ]
  },
  {
   "cell_type": "code",
   "execution_count": 8,
   "metadata": {},
   "outputs": [],
   "source": [
    "#memasukan modul yang digunakan \n",
    "import gmaps \n",
    "import gmaps.datasets"
   ]
  },
  {
   "cell_type": "code",
   "execution_count": 9,
   "metadata": {},
   "outputs": [],
   "source": [
    "#memasukan api_key untuk mengkonfigurasikan dengan gmaps\n",
    "api_key = 'nsfdjlamdu8vUdQYEIq0RCrJoi7QGKHqygfAcDJzjI'\n",
    "gmaps.configure(api_key)"
   ]
  },
  {
   "cell_type": "code",
   "execution_count": 10,
   "metadata": {},
   "outputs": [
    {
     "data": {
      "application/vnd.jupyter.widget-view+json": {
       "model_id": "f74737c8596c43adbfbb44829c2d2001",
       "version_major": 2,
       "version_minor": 0
      },
      "text/plain": [
       "Figure(layout=FigureLayout(height='420px'))"
      ]
     },
     "metadata": {},
     "output_type": "display_data"
    }
   ],
   "source": [
    "#memasukan data lokasi dan menggambarkannya\n",
    "data_lokasi = gmaps.datasets.load_dataset(\"taxi_rides\")\n",
    "\n",
    "gambar = gmaps.figure()\n",
    "gambar.add_layer(gmaps.heatmap_layer(data_lokasi))\n",
    "gambar"
   ]
  },
  {
   "cell_type": "markdown",
   "metadata": {},
   "source": [
    "                                ##Semoga Bermanfaat \n",
    "                                ##@Raspiani_"
   ]
  }
 ],
 "metadata": {
  "kernelspec": {
   "display_name": "Python 3",
   "language": "python",
   "name": "python3"
  },
  "language_info": {
   "codemirror_mode": {
    "name": "ipython",
    "version": 3
   },
   "file_extension": ".py",
   "mimetype": "text/x-python",
   "name": "python",
   "nbconvert_exporter": "python",
   "pygments_lexer": "ipython3",
   "version": "3.6.5"
  }
 },
 "nbformat": 4,
 "nbformat_minor": 2
}
